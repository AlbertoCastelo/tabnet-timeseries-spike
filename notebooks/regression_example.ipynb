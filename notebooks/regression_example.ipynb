{
 "cells": [
  {
   "cell_type": "markdown",
   "metadata": {},
   "source": [
    "# Example from Pytorch-Tabnet"
   ]
  },
  {
   "cell_type": "code",
   "execution_count": 23,
   "metadata": {},
   "outputs": [],
   "source": [
    "from pytorch_tabnet.tab_model import TabNetRegressor\n",
    "\n",
    "import torch\n",
    "from sklearn.preprocessing import LabelEncoder\n",
    "from sklearn.metrics import mean_squared_error\n",
    "\n",
    "import pandas as pd\n",
    "import numpy as np\n",
    "np.random.seed(0)\n",
    "\n",
    "\n",
    "import os\n",
    "import wget\n",
    "from pathlib import Path"
   ]
  },
  {
   "cell_type": "markdown",
   "metadata": {},
   "source": [
    "# Download census-income dataset"
   ]
  },
  {
   "cell_type": "code",
   "execution_count": 4,
   "metadata": {},
   "outputs": [],
   "source": [
    "url = \"https://archive.ics.uci.edu/ml/machine-learning-databases/adult/adult.data\"\n",
    "dataset_name = 'census-income'\n",
    "out = Path(os.getcwd()+'/data/'+dataset_name+'.csv')"
   ]
  },
  {
   "cell_type": "code",
   "execution_count": 5,
   "metadata": {},
   "outputs": [
    {
     "name": "stdout",
     "output_type": "stream",
     "text": [
      "Downloading file...\n"
     ]
    }
   ],
   "source": [
    "out.parent.mkdir(parents=True, exist_ok=True)\n",
    "if out.exists():\n",
    "    print(\"File already exists.\")\n",
    "else:\n",
    "    print(\"Downloading file...\")\n",
    "    wget.download(url, out.as_posix())"
   ]
  },
  {
   "cell_type": "markdown",
   "metadata": {},
   "source": [
    "# Load data and split"
   ]
  },
  {
   "cell_type": "code",
   "execution_count": 6,
   "metadata": {},
   "outputs": [],
   "source": [
    "train = pd.read_csv(out)\n",
    "target = ' <=50K'\n",
    "if \"Set\" not in train.columns:\n",
    "    train[\"Set\"] = np.random.choice([\"train\", \"valid\", \"test\"], p =[.8, .1, .1], size=(train.shape[0],))\n",
    "\n",
    "train_indices = train[train.Set==\"train\"].index\n",
    "valid_indices = train[train.Set==\"valid\"].index\n",
    "test_indices = train[train.Set==\"test\"].index"
   ]
  },
  {
   "cell_type": "markdown",
   "metadata": {},
   "source": [
    "# Simple preprocessing\n",
    "\n",
    "Label encode categorical features and fill empty cells."
   ]
  },
  {
   "cell_type": "code",
   "execution_count": 7,
   "metadata": {},
   "outputs": [
    {
     "name": "stdout",
     "output_type": "stream",
     "text": [
      " State-gov 9\n",
      " Bachelors 16\n",
      " Never-married 7\n",
      " Adm-clerical 15\n",
      " Not-in-family 6\n",
      " White 5\n",
      " Male 2\n",
      " United-States 42\n",
      " <=50K 2\n",
      "Set 3\n"
     ]
    }
   ],
   "source": [
    "categorical_columns = []\n",
    "categorical_dims =  {}\n",
    "for col in train.columns[train.dtypes == object]:\n",
    "    print(col, train[col].nunique())\n",
    "    l_enc = LabelEncoder()\n",
    "    train[col] = train[col].fillna(\"VV_likely\")\n",
    "    train[col] = l_enc.fit_transform(train[col].values)\n",
    "    categorical_columns.append(col)\n",
    "    categorical_dims[col] = len(l_enc.classes_)\n",
    "\n",
    "for col in train.columns[train.dtypes == 'float64']:\n",
    "    train.fillna(train.loc[train_indices, col].mean(), inplace=True)"
   ]
  },
  {
   "cell_type": "markdown",
   "metadata": {},
   "source": [
    "# Define categorical features for categorical embeddings"
   ]
  },
  {
   "cell_type": "code",
   "execution_count": 8,
   "metadata": {},
   "outputs": [],
   "source": [
    "unused_feat = ['Set']\n",
    "\n",
    "features = [ col for col in train.columns if col not in unused_feat+[target]] \n",
    "\n",
    "cat_idxs = [ i for i, f in enumerate(features) if f in categorical_columns]\n",
    "\n",
    "cat_dims = [ categorical_dims[f] for i, f in enumerate(features) if f in categorical_columns]\n",
    "\n",
    "# define your embedding sizes : here just a random choice\n",
    "cat_emb_dim = [5, 4, 3, 6, 2, 2, 1, 10]"
   ]
  },
  {
   "cell_type": "markdown",
   "metadata": {},
   "source": [
    "# Network parameters"
   ]
  },
  {
   "cell_type": "code",
   "execution_count": 9,
   "metadata": {},
   "outputs": [
    {
     "name": "stdout",
     "output_type": "stream",
     "text": [
      "Device used : cuda\n"
     ]
    }
   ],
   "source": [
    "clf = TabNetRegressor(cat_dims=cat_dims, cat_emb_dim=cat_emb_dim, cat_idxs=cat_idxs)"
   ]
  },
  {
   "cell_type": "markdown",
   "metadata": {},
   "source": [
    "# Training"
   ]
  },
  {
   "cell_type": "code",
   "execution_count": 10,
   "metadata": {},
   "outputs": [],
   "source": [
    "X_train = train[features].values[train_indices]\n",
    "y_train = train[target].values[train_indices].reshape(-1, 1)\n",
    "\n",
    "X_valid = train[features].values[valid_indices]\n",
    "y_valid = train[target].values[valid_indices].reshape(-1, 1)\n",
    "\n",
    "X_test = train[features].values[test_indices]\n",
    "y_test = train[target].values[test_indices].reshape(-1, 1)"
   ]
  },
  {
   "cell_type": "code",
   "execution_count": 11,
   "metadata": {},
   "outputs": [],
   "source": [
    "max_epochs = 1000 if not os.getenv(\"CI\", False) else 2"
   ]
  },
  {
   "cell_type": "code",
   "execution_count": 12,
   "metadata": {
    "scrolled": true
   },
   "outputs": [
    {
     "name": "stdout",
     "output_type": "stream",
     "text": [
      "Will train until validation stopping metric hasn't improved in 50 rounds.\n",
      "---------------------------------------\n",
      "| EPOCH |  train  |   valid  | total time (s)\n",
      "| 1     | -0.17668 |  -0.32298 |   1.7       \n",
      "| 2     | -0.13827 |  -0.17600 |   3.2       \n",
      "| 3     | -0.12958 |  -0.22527 |   4.6       \n",
      "| 4     | -0.12434 |  -0.13849 |   6.1       \n",
      "| 5     | -0.12272 |  -0.14207 |   7.4       \n",
      "| 6     | -0.12037 |  -0.12945 |   8.9       \n",
      "| 7     | -0.11798 |  -0.12142 |   10.3      \n",
      "| 8     | -0.11576 |  -0.11550 |   11.7      \n",
      "| 9     | -0.11586 |  -0.11345 |   13.1      \n",
      "| 10    | -0.11330 |  -0.11597 |   14.5      \n",
      "| 11    | -0.11157 |  -0.10801 |   15.9      \n",
      "| 12    | -0.11081 |  -0.10700 |   17.4      \n",
      "| 13    | -0.10818 |  -0.11060 |   18.7      \n",
      "| 14    | -0.10811 |  -0.11288 |   20.1      \n",
      "| 15    | -0.10694 |  -0.10262 |   21.5      \n",
      "| 16    | -0.10553 |  -0.10562 |   22.8      \n",
      "| 17    | -0.10623 |  -0.10134 |   24.3      \n",
      "| 18    | -0.10416 |  -0.10369 |   25.6      \n",
      "| 19    | -0.10338 |  -0.10155 |   27.1      \n",
      "| 20    | -0.10339 |  -0.10086 |   28.5      \n",
      "| 21    | -0.10368 |  -0.10089 |   29.8      \n",
      "| 22    | -0.10274 |  -0.09979 |   31.3      \n",
      "| 23    | -0.10198 |  -0.10122 |   32.7      \n",
      "| 24    | -0.10154 |  -0.10042 |   34.1      \n",
      "| 25    | -0.10359 |  -0.10188 |   35.4      \n",
      "| 26    | -0.10244 |  -0.10071 |   36.8      \n",
      "| 27    | -0.10234 |  -0.10094 |   38.2      \n",
      "| 28    | -0.10240 |  -0.09850 |   39.6      \n",
      "| 29    | -0.10282 |  -0.10627 |   41.0      \n",
      "| 30    | -0.10374 |  -0.09997 |   42.3      \n",
      "| 31    | -0.10071 |  -0.10244 |   43.7      \n",
      "| 32    | -0.10092 |  -0.10382 |   45.2      \n",
      "| 33    | -0.10011 |  -0.09978 |   46.6      \n",
      "| 34    | -0.10021 |  -0.10106 |   48.1      \n",
      "| 35    | -0.10000 |  -0.09943 |   49.5      \n",
      "| 36    | -0.09950 |  -0.09836 |   50.9      \n",
      "| 37    | -0.09940 |  -0.09722 |   52.3      \n",
      "| 38    | -0.09965 |  -0.09801 |   53.8      \n",
      "| 39    | -0.09854 |  -0.09733 |   55.2      \n",
      "| 40    | -0.09899 |  -0.09873 |   56.6      \n",
      "| 41    | -0.10025 |  -0.09681 |   58.0      \n",
      "| 42    | -0.10037 |  -0.09869 |   59.5      \n",
      "| 43    | -0.10011 |  -0.09772 |   60.8      \n",
      "| 44    | -0.09936 |  -0.09759 |   62.2      \n",
      "| 45    | -0.09908 |  -0.10137 |   63.6      \n",
      "| 46    | -0.09934 |  -0.09676 |   65.0      \n",
      "| 47    | -0.09791 |  -0.09739 |   66.4      \n",
      "| 48    | -0.09897 |  -0.09797 |   67.8      \n",
      "| 49    | -0.09938 |  -0.09747 |   69.2      \n",
      "| 50    | -0.09942 |  -0.09639 |   70.6      \n",
      "| 51    | -0.09902 |  -0.09823 |   72.0      \n",
      "| 52    | -0.09866 |  -0.09734 |   73.4      \n",
      "| 53    | -0.09819 |  -0.09635 |   74.8      \n",
      "| 54    | -0.09883 |  -0.09892 |   76.2      \n",
      "| 55    | -0.09800 |  -0.09715 |   77.6      \n",
      "| 56    | -0.09847 |  -0.09758 |   79.1      \n",
      "| 57    | -0.09758 |  -0.09896 |   80.3      \n",
      "| 58    | -0.09818 |  -0.09612 |   81.7      \n",
      "| 59    | -0.09716 |  -0.09756 |   83.0      \n",
      "| 60    | -0.09706 |  -0.09587 |   84.4      \n",
      "| 61    | -0.09766 |  -0.09666 |   85.8      \n",
      "| 62    | -0.09725 |  -0.09628 |   87.2      \n",
      "| 63    | -0.09705 |  -0.09741 |   88.6      \n",
      "| 64    | -0.09728 |  -0.09857 |   90.0      \n",
      "| 65    | -0.09888 |  -0.09665 |   91.3      \n",
      "| 66    | -0.09768 |  -0.09549 |   92.7      \n",
      "| 67    | -0.09718 |  -0.09647 |   94.2      \n",
      "| 68    | -0.09658 |  -0.09541 |   95.5      \n",
      "| 69    | -0.09669 |  -0.09747 |   96.9      \n",
      "| 70    | -0.09670 |  -0.09930 |   98.2      \n",
      "| 71    | -0.09667 |  -0.09808 |   99.6      \n",
      "| 72    | -0.09682 |  -0.09532 |   101.0     \n",
      "| 73    | -0.09572 |  -0.09774 |   102.4     \n",
      "| 74    | -0.09629 |  -0.09886 |   103.7     \n",
      "| 75    | -0.09694 |  -0.09578 |   105.1     \n",
      "| 76    | -0.09581 |  -0.09668 |   106.5     \n",
      "| 77    | -0.09729 |  -0.09890 |   107.8     \n",
      "| 78    | -0.09679 |  -0.09657 |   109.2     \n",
      "| 79    | -0.09612 |  -0.09666 |   110.7     \n",
      "| 80    | -0.09638 |  -0.09613 |   112.1     \n",
      "| 81    | -0.09514 |  -0.09671 |   113.4     \n",
      "| 82    | -0.09524 |  -0.09595 |   114.8     \n",
      "| 83    | -0.09643 |  -0.09672 |   116.2     \n",
      "| 84    | -0.09522 |  -0.09557 |   117.6     \n",
      "| 85    | -0.09457 |  -0.09623 |   119.0     \n",
      "| 86    | -0.09437 |  -0.09796 |   120.4     \n",
      "| 87    | -0.09500 |  -0.09704 |   121.8     \n",
      "| 88    | -0.09396 |  -0.09783 |   123.0     \n",
      "| 89    | -0.09413 |  -0.09891 |   124.4     \n",
      "| 90    | -0.09491 |  -0.10066 |   125.9     \n",
      "| 91    | -0.09469 |  -0.09701 |   127.3     \n",
      "| 92    | -0.09392 |  -0.09824 |   128.7     \n",
      "| 93    | -0.09541 |  -0.09704 |   130.1     \n",
      "| 94    | -0.09381 |  -0.09868 |   131.5     \n",
      "| 95    | -0.09415 |  -0.09689 |   132.9     \n",
      "| 96    | -0.09431 |  -0.09673 |   134.3     \n",
      "| 97    | -0.09464 |  -0.09942 |   135.7     \n",
      "| 98    | -0.09557 |  -0.09698 |   137.1     \n",
      "| 99    | -0.09529 |  -0.09880 |   138.5     \n",
      "| 100   | -0.09557 |  -0.09752 |   140.0     \n",
      "| 101   | -0.09420 |  -0.10047 |   141.4     \n",
      "| 102   | -0.09600 |  -0.09849 |   142.8     \n",
      "| 103   | -0.09558 |  -0.09726 |   144.2     \n",
      "| 104   | -0.09565 |  -0.09938 |   145.6     \n",
      "| 105   | -0.09799 |  -0.09706 |   147.0     \n",
      "| 106   | -0.09674 |  -0.09818 |   148.4     \n",
      "| 107   | -0.09548 |  -0.09798 |   149.8     \n",
      "| 108   | -0.09513 |  -0.09653 |   151.3     \n",
      "| 109   | -0.09482 |  -0.09802 |   152.7     \n",
      "| 110   | -0.09472 |  -0.09802 |   154.0     \n",
      "| 111   | -0.09466 |  -0.09725 |   155.4     \n",
      "| 112   | -0.09410 |  -0.09686 |   156.9     \n",
      "| 113   | -0.09431 |  -0.09888 |   158.3     \n",
      "| 114   | -0.09408 |  -0.09646 |   159.7     \n",
      "| 115   | -0.09495 |  -0.09872 |   161.1     \n",
      "| 116   | -0.09534 |  -0.09653 |   162.5     \n",
      "| 117   | -0.09463 |  -0.09593 |   163.9     \n",
      "| 118   | -0.09774 |  -0.09813 |   165.3     \n",
      "| 119   | -0.09706 |  -0.09799 |   166.6     \n",
      "| 120   | -0.09735 |  -0.09905 |   168.1     \n",
      "| 121   | -0.09739 |  -0.09655 |   169.4     \n",
      "| 122   | -0.09663 |  -0.09701 |   170.8     \n",
      "Early stopping occured at epoch 122\n",
      "Training done in 170.837 seconds.\n",
      "---------------------------------------\n"
     ]
    }
   ],
   "source": [
    "clf.fit(\n",
    "    X_train=X_train, y_train=y_train,\n",
    "    X_valid=X_valid, y_valid=y_valid,\n",
    "    max_epochs=max_epochs,\n",
    "    patience=50,\n",
    "    batch_size=1024, virtual_batch_size=128,\n",
    "    num_workers=0,\n",
    "    drop_last=False\n",
    ") "
   ]
  },
  {
   "cell_type": "code",
   "execution_count": 13,
   "metadata": {},
   "outputs": [
    {
     "name": "stdout",
     "output_type": "stream",
     "text": [
      "BEST VALID SCORE FOR census-income : 0.0953194797039032\n",
      "FINAL TEST SCORE FOR census-income : 0.09953681463189108\n"
     ]
    }
   ],
   "source": [
    "# Deprecated : best model is automatically loaded at end of fit\n",
    "# clf.load_best_model()\n",
    "\n",
    "preds = clf.predict(X_test)\n",
    "\n",
    "y_true = y_test\n",
    "\n",
    "test_score = mean_squared_error(y_pred=preds, y_true=y_true)\n",
    "\n",
    "print(f\"BEST VALID SCORE FOR {dataset_name} : {clf.best_cost}\")\n",
    "print(f\"FINAL TEST SCORE FOR {dataset_name} : {test_score}\")"
   ]
  },
  {
   "cell_type": "markdown",
   "metadata": {},
   "source": [
    "# Global explainability : feat importance summing to 1"
   ]
  },
  {
   "cell_type": "code",
   "execution_count": 14,
   "metadata": {},
   "outputs": [
    {
     "data": {
      "text/plain": [
       "array([0.11222507, 0.01050163, 0.00939182, 0.14140154, 0.01245154,\n",
       "       0.08380866, 0.15639717, 0.04467439, 0.00165761, 0.00099142,\n",
       "       0.25578231, 0.00118283, 0.03724031, 0.1322937 ])"
      ]
     },
     "execution_count": 14,
     "metadata": {},
     "output_type": "execute_result"
    }
   ],
   "source": [
    "clf.feature_importances_"
   ]
  },
  {
   "cell_type": "markdown",
   "metadata": {},
   "source": [
    "# Local explainability and masks"
   ]
  },
  {
   "cell_type": "code",
   "execution_count": 15,
   "metadata": {},
   "outputs": [],
   "source": [
    "explain_matrix, masks = clf.explain(X_test)"
   ]
  },
  {
   "cell_type": "code",
   "execution_count": 22,
   "metadata": {},
   "outputs": [
    {
     "data": {
      "text/plain": [
       "array([[0.47071332, 0.        , 0.        , ..., 0.        , 0.        ,\n",
       "        0.23847537],\n",
       "       [0.12180714, 0.        , 0.        , ..., 0.        , 0.0780478 ,\n",
       "        0.        ],\n",
       "       [0.        , 0.00252125, 0.        , ..., 0.        , 0.00144717,\n",
       "        0.        ],\n",
       "       ...,\n",
       "       [0.11831468, 0.01298389, 0.0417505 , ..., 0.        , 0.14293262,\n",
       "        0.        ],\n",
       "       [0.02146184, 0.        , 0.        , ..., 0.        , 0.10680711,\n",
       "        0.        ],\n",
       "       [0.00117433, 0.        , 0.        , ..., 0.12289415, 0.00196807,\n",
       "        0.        ]])"
      ]
     },
     "execution_count": 22,
     "metadata": {},
     "output_type": "execute_result"
    }
   ],
   "source": [
    "explain_matrix"
   ]
  },
  {
   "cell_type": "code",
   "execution_count": 16,
   "metadata": {},
   "outputs": [],
   "source": [
    "from matplotlib import pyplot as plt\n",
    "%matplotlib inline"
   ]
  },
  {
   "cell_type": "code",
   "execution_count": 17,
   "metadata": {},
   "outputs": [
    {
     "data": {
      "image/png": "[encoded data removed]",
      "text/plain": [
       "<Figure size 1440x1440 with 3 Axes>"
      ]
     },
     "metadata": {
      "needs_background": "light"
     },
     "output_type": "display_data"
    }
   ],
   "source": [
    "fig, axs = plt.subplots(1, 3, figsize=(20,20))\n",
    "\n",
    "for i in range(3):\n",
    "    axs[i].imshow(masks[i][:50])\n",
    "    axs[i].set_title(f\"mask {i}\")\n"
   ]
  },
  {
   "cell_type": "markdown",
   "metadata": {},
   "source": [
    "# XGB"
   ]
  },
  {
   "cell_type": "code",
   "execution_count": null,
   "metadata": {
    "scrolled": true
   },
   "outputs": [],
   "source": [
    "from xgboost import XGBRegressor\n",
    "\n",
    "clf_xgb = XGBRegressor(max_depth=8,\n",
    "    learning_rate=0.1,\n",
    "    n_estimators=1000,\n",
    "    verbosity=0,\n",
    "    silent=None,\n",
    "    objective='reg:linear',\n",
    "    booster='gbtree',\n",
    "    n_jobs=-1,\n",
    "    nthread=None,\n",
    "    gamma=0,\n",
    "    min_child_weight=1,\n",
    "    max_delta_step=0,\n",
    "    subsample=0.7,\n",
    "    colsample_bytree=1,\n",
    "    colsample_bylevel=1,\n",
    "    colsample_bynode=1,\n",
    "    reg_alpha=0,\n",
    "    reg_lambda=1,\n",
    "    scale_pos_weight=1,\n",
    "    base_score=0.5,\n",
    "    random_state=0,\n",
    "    seed=None,)\n",
    "\n",
    "clf_xgb.fit(X_train, y_train,\n",
    "        eval_set=[(X_valid, y_valid)],\n",
    "        early_stopping_rounds=40,\n",
    "        verbose=10)"
   ]
  },
  {
   "cell_type": "code",
   "execution_count": null,
   "metadata": {},
   "outputs": [],
   "source": [
    "preds = np.array(clf_xgb.predict(X_valid))\n",
    "valid_auc = mean_squared_error(y_pred=preds, y_true=y_valid)\n",
    "print(valid_auc)\n",
    "\n",
    "preds = np.array(clf_xgb.predict(X_test))\n",
    "test_auc = mean_squared_error(y_pred=preds, y_true=y_test)\n",
    "print(test_auc)"
   ]
  }
 ],
 "metadata": {
  "kernelspec": {
   "display_name": "Python 3",
   "language": "python",
   "name": "python3"
  },
  "language_info": {
   "codemirror_mode": {
    "name": "ipython",
    "version": 3
   },
   "file_extension": ".py",
   "mimetype": "text/x-python",
   "name": "python",
   "nbconvert_exporter": "python",
   "pygments_lexer": "ipython3",
   "version": "3.8.1"
  }
 },
 "nbformat": 4,
 "nbformat_minor": 4
}
